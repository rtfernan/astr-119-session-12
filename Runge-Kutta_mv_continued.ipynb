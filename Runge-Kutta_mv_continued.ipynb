{
 "cells": [
  {
   "cell_type": "markdown",
   "metadata": {},
   "source": [
    "## Create a notebook to perform Runge-Kutta integration for multiple coupled variables."
   ]
  },
  {
   "cell_type": "code",
   "execution_count": 55,
   "metadata": {},
   "outputs": [],
   "source": [
    "%matplotlib inline\n",
    "import matplotlib.pyplot as plt\n",
    "import numpy as np"
   ]
  },
  {
   "cell_type": "markdown",
   "metadata": {},
   "source": [
    "## Define our coupled derivatives to integrate"
   ]
  },
  {
   "cell_type": "code",
   "execution_count": 56,
   "metadata": {},
   "outputs": [],
   "source": [
    "def dydx(x,y):\n",
    "    \n",
    "    #set the derivatives\n",
    "    \n",
    "    #our eqn is d^2y/dx^2 = -y\n",
    "    \n",
    "    #so we can write\n",
    "    #dydx = z\n",
    "    #dzdx = -y\n",
    "    \n",
    "    #we will set y = y[0]\n",
    "    #we will set z = y[1]\n",
    "    \n",
    "    #declare an array\n",
    "    y_derivs = np.zeros(2)\n",
    "    \n",
    "    #set dzdx = z\n",
    "    y_derivs[0] = y[1]\n",
    "    \n",
    "    #set dzdx = -y\n",
    "    y_derivs[1] = -1*y[0]\n",
    "    \n",
    "    #here we have to return an array\n",
    "    return y_derivs"
   ]
  },
  {
   "cell_type": "markdown",
   "metadata": {},
   "source": [
    "## Define the 4th order RK method"
   ]
  },
  {
   "cell_type": "code",
   "execution_count": 57,
   "metadata": {},
   "outputs": [],
   "source": [
    "def rk4_mv_core(dy,xi,yi,nv,h):\n",
    "    \n",
    "    #declare k? arrays     ?= wildcard, any digit from 0 to 9\n",
    "    k1 = np.zeros(nv)      #each k gives derivatives for each eqn solving simultaneously\n",
    "    k2 = np.zeros(nv)      #k2 depends on k1's we were using\n",
    "    k3 = np.zeros(nv)\n",
    "    k4 = np.zeros(nv)\n",
    "    \n",
    "    #define x at 1/2 step\n",
    "    x_ipoh = xi + 0.5*h\n",
    "    \n",
    "    #define x at 1 step\n",
    "    x_ipo = xi + h\n",
    "    \n",
    "    #declare a temp y aray\n",
    "    y_temp = np.zeros(nv)\n",
    "    \n",
    "    #get k1 values\n",
    "    y_derivs = dydx(xi,yi)\n",
    "    k1[:] = h*y_derivs[:]    #: - evolve so will compute new number (an update)\n",
    "    \n",
    "    #get k2 values\n",
    "    y_temp[:] = yi[:] + 0.5*k1[:]\n",
    "    y_derivs = dydx(x_ipoh,y_temp)\n",
    "    k2[:] = h*y_derivs[:]\n",
    "    \n",
    "    #get k3 values\n",
    "    y_temp[:] = yi[:] + 0.5*k2[:]\n",
    "    y_derivs = dydx(x_ipoh,y_temp)\n",
    "    k3[:] = h*y_derivs[:]\n",
    "    \n",
    "    #get k4 values\n",
    "    y_temp[:] = yi[:] + k3[:]     \n",
    "    y_derivs = dydx(x_ipo,y_temp)\n",
    "    k4[:] = h*y_derivs[:]\n",
    "    \n",
    "    #advance y by a step h\n",
    "    yipo = yi + (k1 + 2*k2 + 2*k3 + k4)/6.\n",
    "    \n",
    "    return yipo"
   ]
  },
  {
   "cell_type": "markdown",
   "metadata": {},
   "source": [
    "## Define an adaptive step size driver for RK4"
   ]
  },
  {
   "cell_type": "code",
   "execution_count": 58,
   "metadata": {},
   "outputs": [],
   "source": [
    "def rk4_mv_ad(dydx,x_i,y_i,nv,h,tol):\n",
    "    \n",
    "    #define safety scale\n",
    "    SAFETY    = 0.9\n",
    "    H_NEW_FAC = 2.0  #max factor by which we'll take a bigger step\n",
    "    \n",
    "    #set a maximum number of iterations\n",
    "    imax = 10000\n",
    "    \n",
    "    #set an iteration variable\n",
    "    i = 0\n",
    "    \n",
    "    #create an error\n",
    "    Delta = np.full(nv, 2*tol) \n",
    "    \n",
    "    #remember the step\n",
    "    h_step = h\n",
    "    \n",
    "    #adjust step\n",
    "    while(Delta.max()/tol > 1.0):\n",
    "        \n",
    "        #estimate our error by taking one step of size h\n",
    "        #vs. two steps of size h/2\n",
    "        y_2  = rk4_mv_core(dydx,x_i,y_i,nv,h_step)   #first half step\n",
    "        y_1  = rk4_mv_core(dydx,x_i,y_i,nv,0.5*h_step)   #second half step WRT first half step\n",
    "        y_11 = rk4_mv_core(dydx,x_i+0.5*h_step,y_1,nv,0.5*h_step)  #lead to full step\n",
    "        \n",
    "        #compute an error\n",
    "        Delta = np.fabs(y_2 - y_11)\n",
    "        \n",
    "        #if the error is too large, take a smaller step\n",
    "        if(Delta.max()/tol > 1.0):\n",
    "            \n",
    "            #our error is too large, decrease the step\n",
    "            h_step *= SAFETY * (Delta.max()/tol)**(-0.25)\n",
    "            \n",
    "        #check iteration\n",
    "        if(i>=imax):\n",
    "            print(\"Too many iterations in rk4_mv_ad()\")\n",
    "            raise StopIteration(\"Ending after i = \",i)\n",
    "            \n",
    "        #iterate\n",
    "        i+=1\n",
    "        \n",
    "    #next time, try to take a bigger step\n",
    "    h_new = np.fmin(h_step * (Delta.max()/tol)**(-0.9), h_step*H_NEW_FAC)\n",
    "    \n",
    "    #return the answer, a new step, and the step we actually took\n",
    "    return y_2, h_new, h_step"
   ]
  },
  {
   "cell_type": "markdown",
   "metadata": {},
   "source": [
    "## Define a wrapper for R4"
   ]
  },
  {
   "cell_type": "code",
   "execution_count": 59,
   "metadata": {},
   "outputs": [],
   "source": [
    "def rk4_mv(dydx,a,b,y_a,tol):\n",
    "    \n",
    "    #dfdx is the derivative wrt x\n",
    "    #a is the lower bound\n",
    "    #b is the upper bound\n",
    "    #y_a are the boundary conditions\n",
    "    #tol is the tolerance for integrating y\n",
    "    \n",
    "    #define our starting step\n",
    "    xi = a\n",
    "    yi = y_a.copy()\n",
    "    \n",
    "    #an initial step size == make very small!\n",
    "    h = 1.0e-4 * (b-a)\n",
    "    \n",
    "    #set a maximum number of iterations\n",
    "    imax = 10000\n",
    "    \n",
    "    #set an iteration variable\n",
    "    i = 0\n",
    "    \n",
    "    #set the number of coupled odes to the\n",
    "    #size of y_a\n",
    "    nv = len(y_a)\n",
    "    \n",
    "    #set the initial conditions\n",
    "    x = np.full(1,a)\n",
    "    y = np.full((1,nv),y_a)\n",
    "    \n",
    "    #set a flag\n",
    "    flag = 1\n",
    "    \n",
    "    #loop until we reach the right side\n",
    "    while(flag):\n",
    "        \n",
    "        #calc y_i+1\n",
    "        yi_new, h_new, h_step = rk4_mv_ad(dydx,xi,yi,nv,h,tol)\n",
    "        \n",
    "        #update the step\n",
    "        h = h_new\n",
    "        \n",
    "        #prevent an overshoot\n",
    "        if(xi+h_step>b):\n",
    "            \n",
    "            #take a smaller step\n",
    "            h = b-xi\n",
    "            \n",
    "            #recalculate y_i+1\n",
    "            yi_new, h_new, h_step = rk4_mv_ad(dydx,xi,yi,nv,h,tol)\n",
    "            \n",
    "            #break\n",
    "            flag = 0\n",
    "        \n",
    "        #update values\n",
    "        xi += h_step\n",
    "        yi[:] = yi_new[:]\n",
    "        \n",
    "        #add the step to the arrays\n",
    "        x = np.append(x,xi)\n",
    "        y_new = np.zeros((len(x),nv))\n",
    "        y_new[0:len(x)-1,:] = y\n",
    "        y_new[-1,:] = yi[:]\n",
    "        del y\n",
    "        y = y_new\n",
    "        \n",
    "        #prevent too many iterations\n",
    "        if(i>=imax):\n",
    "            \n",
    "            print(\"Maximum iterations reached.\")\n",
    "            raise StopIteration(\"Iteration number = \",i)\n",
    "            \n",
    "        #iterate\n",
    "        i += 1\n",
    "        \n",
    "        #output some information\n",
    "        s = \"i = %3d\\tx = %9.8f\\th = %9.8f\\tb = %9.8f\" % (i,xi, h_step, b)\n",
    "        print(s)\n",
    "        \n",
    "        #break if new xi is == b\n",
    "        if(xi==b):\n",
    "            flag = 0\n",
    "            \n",
    "    #return the answer\n",
    "    return x,y"
   ]
  },
  {
   "cell_type": "markdown",
   "metadata": {},
   "source": [
    "## Perform the integration"
   ]
  },
  {
   "cell_type": "code",
   "execution_count": 60,
   "metadata": {},
   "outputs": [
    {
     "name": "stdout",
     "output_type": "stream",
     "text": [
      "i =   1\tx = 0.00062832\th = 0.00062832\tb = 6.28318531\n",
      "i =   2\tx = 0.00188496\th = 0.00125664\tb = 6.28318531\n",
      "i =   3\tx = 0.00439823\th = 0.00251327\tb = 6.28318531\n",
      "i =   4\tx = 0.00942478\th = 0.00502655\tb = 6.28318531\n",
      "i =   5\tx = 0.01947787\th = 0.01005310\tb = 6.28318531\n",
      "i =   6\tx = 0.03958407\th = 0.02010619\tb = 6.28318531\n",
      "i =   7\tx = 0.07979645\th = 0.04021239\tb = 6.28318531\n",
      "i =   8\tx = 0.16022123\th = 0.08042477\tb = 6.28318531\n",
      "i =   9\tx = 0.32107077\th = 0.16084954\tb = 6.28318531\n",
      "i =  10\tx = 0.46816761\th = 0.14709684\tb = 6.28318531\n",
      "i =  11\tx = 0.60535502\th = 0.13718741\tb = 6.28318531\n",
      "i =  12\tx = 0.74522296\th = 0.13986794\tb = 6.28318531\n",
      "i =  13\tx = 0.88873209\th = 0.14350913\tb = 6.28318531\n",
      "i =  14\tx = 1.02700188\th = 0.13826979\tb = 6.28318531\n",
      "i =  15\tx = 1.16350434\th = 0.13650247\tb = 6.28318531\n",
      "i =  16\tx = 1.29828215\th = 0.13477781\tb = 6.28318531\n",
      "i =  17\tx = 1.43207856\th = 0.13379641\tb = 6.28318531\n",
      "i =  18\tx = 1.56536018\th = 0.13328163\tb = 6.28318531\n",
      "i =  19\tx = 1.69861470\th = 0.13325451\tb = 6.28318531\n",
      "i =  20\tx = 1.83231473\th = 0.13370003\tb = 6.28318531\n",
      "i =  21\tx = 1.96696384\th = 0.13464912\tb = 6.28318531\n",
      "i =  22\tx = 2.10312767\th = 0.13616382\tb = 6.28318531\n",
      "i =  23\tx = 2.24148484\th = 0.13835717\tb = 6.28318531\n",
      "i =  24\tx = 2.38290819\th = 0.14142335\tb = 6.28318531\n",
      "i =  25\tx = 2.52387310\th = 0.14096491\tb = 6.28318531\n",
      "i =  26\tx = 2.66122448\th = 0.13735138\tb = 6.28318531\n",
      "i =  27\tx = 2.79685130\th = 0.13562682\tb = 6.28318531\n",
      "i =  28\tx = 2.93110818\th = 0.13425688\tb = 6.28318531\n",
      "i =  29\tx = 3.06460575\th = 0.13349757\tb = 6.28318531\n",
      "i =  30\tx = 3.19781631\th = 0.13321055\tb = 6.28318531\n",
      "i =  31\tx = 3.33121701\th = 0.13340071\tb = 6.28318531\n",
      "i =  32\tx = 3.46529097\th = 0.13407396\tb = 6.28318531\n",
      "i =  33\tx = 3.60056547\th = 0.13527449\tb = 6.28318531\n",
      "i =  34\tx = 3.73765085\th = 0.13708538\tb = 6.28318531\n",
      "i =  35\tx = 3.87730259\th = 0.13965174\tb = 6.28318531\n",
      "i =  36\tx = 4.02052789\th = 0.14322530\tb = 6.28318531\n",
      "i =  37\tx = 4.15912470\th = 0.13859682\tb = 6.28318531\n",
      "i =  38\tx = 4.29572591\th = 0.13660121\tb = 6.28318531\n",
      "i =  39\tx = 4.43060314\th = 0.13487723\tb = 6.28318531\n",
      "i =  40\tx = 4.56445058\th = 0.13384745\tb = 6.28318531\n",
      "i =  41\tx = 4.69775227\th = 0.13330169\tb = 6.28318531\n",
      "i =  42\tx = 4.83099353\th = 0.13324126\tb = 6.28318531\n",
      "i =  43\tx = 4.96464709\th = 0.13365356\tb = 6.28318531\n",
      "i =  44\tx = 5.09921335\th = 0.13456626\tb = 6.28318531\n",
      "i =  45\tx = 5.23525228\th = 0.13603892\tb = 6.28318531\n",
      "i =  46\tx = 5.37343256\th = 0.13818029\tb = 6.28318531\n",
      "i =  47\tx = 5.51460989\th = 0.14117733\tb = 6.28318531\n",
      "i =  48\tx = 5.65594750\th = 0.14133761\tb = 6.28318531\n",
      "i =  49\tx = 5.79342190\th = 0.13747440\tb = 6.28318531\n",
      "i =  50\tx = 5.92917073\th = 0.13574883\tb = 6.28318531\n",
      "i =  51\tx = 6.06349751\th = 0.13432679\tb = 6.28318531\n",
      "i =  52\tx = 6.19703289\th = 0.13353538\tb = 6.28318531\n",
      "i =  53\tx = 6.28318531\th = 0.08615241\tb = 6.28318531\n"
     ]
    }
   ],
   "source": [
    "a = 0.0\n",
    "b = 2.0 * np.pi\n",
    "\n",
    "y_0 = np.zeros(2)\n",
    "y_0[0] = 0.0\n",
    "y_0[1] = 1.0\n",
    "nv = 2\n",
    "\n",
    "tolerance = 1.0e-6\n",
    "\n",
    "#perform the integration\n",
    "x,y = rk4_mv(dydx,a,b,y_0,tolerance)"
   ]
  },
  {
   "cell_type": "markdown",
   "metadata": {},
   "source": [
    "## Plot the result"
   ]
  },
  {
   "cell_type": "code",
   "execution_count": 61,
   "metadata": {},
   "outputs": [
    {
     "data": {
      "text/plain": [
       "<matplotlib.legend.Legend at 0x1c4768ad9e8>"
      ]
     },
     "execution_count": 61,
     "metadata": {},
     "output_type": "execute_result"
    },
    {
     "data": {
      "image/png": "[encoded data removed]",
      "text/plain": [
       "<Figure size 432x288 with 1 Axes>"
      ]
     },
     "metadata": {
      "needs_background": "light"
     },
     "output_type": "display_data"
    }
   ],
   "source": [
    "plt.plot(x,y[:,0],'o',label='y(x)')\n",
    "plt.plot(x,y[:,1],'o',label='dydx(x)')\n",
    "xx = np.linspace(0,2.0*np.pi,1000)\n",
    "plt.plot(xx,np.sin(xx), label='sin(x)')\n",
    "plt.plot(xx,np.cos(xx), label='cos(x)')\n",
    "plt.xlabel('x')\n",
    "plt.ylabel('y, dy/dx')\n",
    "plt.legend(frameon=False)"
   ]
  },
  {
   "cell_type": "markdown",
   "metadata": {},
   "source": [
    "## Plot the error"
   ]
  },
  {
   "cell_type": "code",
   "execution_count": null,
   "metadata": {},
   "outputs": [],
   "source": [
    "sine = np.sin(x)\n",
    "cosine = np.cos(x)\n",
    "\n",
    "y_error = (y[:,0]-sine)\n",
    "dydx_error = (y[:,1]-cosine)\n",
    "\n",
    "plt.plot(x, y_error, label=\"y(x) Error\")\n",
    "plt.plot(x, dydx_error, label=\"dydx(x) Error\")\n",
    "plt.legend(frameon = False)"
   ]
  }
 ],
 "metadata": {
  "kernelspec": {
   "display_name": "Python 3",
   "language": "python",
   "name": "python3"
  },
  "language_info": {
   "codemirror_mode": {
    "name": "ipython",
    "version": 3
   },
   "file_extension": ".py",
   "mimetype": "text/x-python",
   "name": "python",
   "nbconvert_exporter": "python",
   "pygments_lexer": "ipython3",
   "version": "3.7.0"
  }
 },
 "nbformat": 4,
 "nbformat_minor": 2
}
